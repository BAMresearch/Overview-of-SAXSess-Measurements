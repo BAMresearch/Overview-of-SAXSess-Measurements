{
 "cells": [
  {
   "cell_type": "markdown",
   "id": "5c54735d-054c-4935-a418-fb8a6afebbaa",
   "metadata": {},
   "source": [
    "# Generate an overview notebook for measurement files\n",
    "\n",
    "This notebook goes through a directory structure and creates a notebook with plotting code for each file found and an overview table of parameters found in the measurement metadata Excel file.\n",
    "\n",
    "*Author: Ingo Breßler (ingo.bressler@bam.de)*  \n",
    "*Last modified: 2025-06-05*"
   ]
  },
  {
   "cell_type": "code",
   "execution_count": 1,
   "id": "405c2a48-4f6d-497a-bffc-37fa5ba7cb8f",
   "metadata": {},
   "outputs": [],
   "source": [
    "from pathlib import Path\n",
    "datadir = Path(\"data\")\n",
    "samplesfile = datadir / \"samples.xlsx\" # metadata for each sample measured\n",
    "dataExtension = \".pdh\"\n",
    "dataFilter = \"[10]\" # data files unsmeared by SAXSquant\n",
    "outNotebookName = \"SAXS Overview Notebook\" # output notebook file name"
   ]
  },
  {
   "cell_type": "code",
   "execution_count": null,
   "id": "cd1f9dce-1707-4a97-b34e-45255d14b448",
   "metadata": {
    "scrolled": true
   },
   "outputs": [],
   "source": [
    "import pandas as pd\n",
    "import itables\n",
    "itables.init_notebook_mode()\n",
    "samples = pd.read_excel(samplesfile, skiprows=1)\n",
    "samples"
   ]
  },
  {
   "cell_type": "code",
   "execution_count": null,
   "id": "66e24f3a-087f-4aba-b201-547aedb1e86b",
   "metadata": {},
   "outputs": [],
   "source": [
    "import re, nbformat\n",
    "from nbformat import v4 as nbf\n",
    "def processSubfolder(datadir):\n",
    "    print(\"Entering\", datadir)\n",
    "    cells = [nbf.new_markdown_cell(f\"## {datadir.name}\")]\n",
    "    plotcode = \"\"\"\n",
    "plotfile(r\"{fn}\", \"{label}\");\n",
    "\"\"\"\n",
    "    for entry in datadir.iterdir():\n",
    "        if (not entry.is_file()\n",
    "            or entry.suffix != dataExtension\n",
    "            or dataFilter not in entry.name):\n",
    "            continue\n",
    "        print(\"  Creating cells for\", entry)\n",
    "        sampleId = re.search('[sS][0-9]+', entry.stem).group()\n",
    "        sample = samples[samples[\"SAXS ID\"] == sampleId]\n",
    "        sampleName = sample[\"sample\"].values[0]\n",
    "        cells.append(nbf.new_markdown_cell(\n",
    "            f\"### {sampleName} ({sampleId})\\n\\n\"\n",
    "            f\"{sample.to_markdown()}\"))\n",
    "        cells.append(nbf.new_code_cell(\n",
    "            plotcode.strip().format(fn=entry, label=f\"{sampleName} ({sampleId})\")))\n",
    "    return cells\n",
    "\n",
    "def processDatadir(datadir):\n",
    "    cells = [nbf.new_markdown_cell(\"# Data Overview\")]\n",
    "    code = \"\"\"\n",
    "from pathlib import Path\n",
    "datadir = Path(\"data\")\n",
    "samplesfile = datadir / \"samples.xlsx\"\n",
    "dataExtension = \".pdh\"\n",
    "dataFilter = \"[10]\"\n",
    "outNotebookName = \"SAXS Overview Notebook\"\n",
    "\"\"\"\n",
    "    cells.append(nbf.new_code_cell(code.strip()))\n",
    "    code = \"\"\"\n",
    "import pandas as pd\n",
    "import itables\n",
    "itables.init_notebook_mode()\n",
    "samples = pd.read_excel(samplesfile, skiprows=1)\n",
    "samples\n",
    "\"\"\"\n",
    "    cells.append(nbf.new_code_cell(code.strip()))\n",
    "    code = \"\"\"\n",
    "# some general imports\n",
    "from jupyter_analysis_tools import readdata\n",
    "import matplotlib.pyplot as plt\n",
    "def plotfile(filename, label):\n",
    "    df,_ = readdata(filename,\n",
    "        #q_range=(0.1, 1.3)\n",
    "    )\n",
    "    df['e'] = df['e'].clip(lower=0) # prevent negative errorbar\n",
    "    df.plot(\"q\", \"I\", yerr=\"e\", logx=True, logy=True, label=label, grid=True, figsize=(10,5),\n",
    "            xlabel = r'$q$ (nm$^{{-1}}$)', ylabel = 'Intensity', ecolor = 'lightgray');\n",
    "\"\"\"\n",
    "    cells.append(nbf.new_code_cell(code.strip()))\n",
    "    for entry in datadir.iterdir():\n",
    "        if not entry.is_dir():\n",
    "            continue\n",
    "        cells += processSubfolder(entry)\n",
    "    #print(cells)\n",
    "    nb = nbf.new_notebook()\n",
    "    nb[\"cells\"] = cells\n",
    "    nbformat.write(nb, f\"{outNotebookName}.ipynb\")"
   ]
  },
  {
   "cell_type": "code",
   "execution_count": 49,
   "id": "798c13f1-d1fc-4abd-97d0-26d67efc5f6d",
   "metadata": {},
   "outputs": [
    {
     "name": "stdout",
     "output_type": "stream",
     "text": [
      "Entering data\\2024-04-15\n",
      "  Creating cells for data\\2024-04-15\\S16312[10].pdh\n",
      "  Creating cells for data\\2024-04-15\\S16344[10].pdh\n",
      "  Creating cells for data\\2024-04-15\\S16346[10].pdh\n",
      "  Creating cells for data\\2024-04-15\\S16347[10].pdh\n",
      "Entering data\\2024-10-02\n",
      "  Creating cells for data\\2024-10-02\\S16439[10].pdh\n",
      "  Creating cells for data\\2024-10-02\\S16440[10].pdh\n",
      "  Creating cells for data\\2024-10-02\\S16441[10].pdh\n",
      "  Creating cells for data\\2024-10-02\\S16442[10].pdh\n",
      "  Creating cells for data\\2024-10-02\\S16443[10].pdh\n",
      "Entering data\\2024-11-20\n",
      "  Creating cells for data\\2024-11-20\\S17105[10].pdh\n",
      "  Creating cells for data\\2024-11-20\\S17106[10].pdh\n",
      "  Creating cells for data\\2024-11-20\\S17108[10].pdh\n",
      "  Creating cells for data\\2024-11-20\\S17109[10].pdh\n",
      "  Creating cells for data\\2024-11-20\\S17110[10].pdh\n",
      "  Creating cells for data\\2024-11-20\\S17111[10].pdh\n",
      "  Creating cells for data\\2024-11-20\\S17112[10].pdh\n",
      "  Creating cells for data\\2024-11-20\\S17113[10].pdh\n",
      "  Creating cells for data\\2024-11-20\\S17114[10].pdh\n",
      "  Creating cells for data\\2024-11-20\\S17115[10].pdh\n",
      "  Creating cells for data\\2024-11-20\\S17116[10].pdh\n",
      "  Creating cells for data\\2024-11-20\\S17117[10].pdh\n",
      "  Creating cells for data\\2024-11-20\\S17118[10].pdh\n",
      "  Creating cells for data\\2024-11-20\\S17119[10].pdh\n",
      "  Creating cells for data\\2024-11-20\\S17120[10].pdh\n",
      "  Creating cells for data\\2024-11-20\\S17121[10].pdh\n",
      "Entering data\\2025-02-24\n",
      "  Creating cells for data\\2025-02-24\\S00097[10].pdh\n",
      "  Creating cells for data\\2025-02-24\\S00098[10].pdh\n",
      "  Creating cells for data\\2025-02-24\\S00101[10].pdh\n",
      "  Creating cells for data\\2025-02-24\\S00102[10].pdh\n",
      "  Creating cells for data\\2025-02-24\\S00103[10].pdh\n",
      "  Creating cells for data\\2025-02-24\\S00104[10].pdh\n",
      "  Creating cells for data\\2025-02-24\\S00105[10].pdh\n",
      "  Creating cells for data\\2025-02-24\\S00106[10].pdh\n",
      "  Creating cells for data\\2025-02-24\\S00107[10].pdh\n",
      "  Creating cells for data\\2025-02-24\\S00108[10].pdh\n",
      "  Creating cells for data\\2025-02-24\\S00109[10].pdh\n",
      "  Creating cells for data\\2025-02-24\\S00110[10].pdh\n"
     ]
    }
   ],
   "source": [
    "processDatadir(datadir)"
   ]
  }
 ],
 "metadata": {
  "kernelspec": {
   "display_name": "Python 3 (ipykernel)",
   "language": "python",
   "name": "python3"
  },
  "language_info": {
   "codemirror_mode": {
    "name": "ipython",
    "version": 3
   },
   "file_extension": ".py",
   "mimetype": "text/x-python",
   "name": "python",
   "nbconvert_exporter": "python",
   "pygments_lexer": "ipython3",
   "version": "3.12.3"
  }
 },
 "nbformat": 4,
 "nbformat_minor": 5
}

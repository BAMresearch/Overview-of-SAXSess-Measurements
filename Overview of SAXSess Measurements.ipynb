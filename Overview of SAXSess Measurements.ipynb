{
 "cells": [
  {
   "cell_type": "markdown",
   "metadata": {},
   "source": [
    "# Measurement Overview for SAXSess\n",
    "\n",
    "Takes multiple groups of measurement IDs and generates a combined plot with the group name as title for each group of IDs.\n",
    "\n",
    "*Author: Ingo Breßler (ingo.bressler@bam.de)*  \n",
    "*Last modified: 2025-07-28*"
   ]
  },
  {
   "cell_type": "markdown",
   "metadata": {},
   "source": [
    "## Module imports and preparation"
   ]
  },
  {
   "cell_type": "code",
   "execution_count": null,
   "metadata": {
    "jupyter": {
     "source_hidden": true
    }
   },
   "outputs": [],
   "source": [
    "from pathlib import Path\n",
    "from pprint import pprint\n",
    "import datetime, re\n",
    "from pathvalidate import sanitize_filename\n",
    "from jupyter_analysis_tools import readPDH, readSSFZ, plotPDH, createFigure, naturalKey"
   ]
  },
  {
   "cell_type": "markdown",
   "metadata": {},
   "source": [
    "## Provide path and measurement IDs"
   ]
  },
  {
   "cell_type": "code",
   "execution_count": null,
   "metadata": {},
   "outputs": [],
   "source": [
    "measurements = dict()\n",
    "measurements[\"Plot Title 1\"] = (\n",
    "    \"S00212\", \"S00188\", \"S00190\", \"S00192\", \"S00195\", \"S00196\", \"S00197\", \"S00250\", \"S00206\"\n",
    ")\n",
    "measurements[\"Plot Title 2\"] = (\n",
    "    \"S00212\", \"S00221\", \"S00222\", \"S00223\", \"S00225\", \"S00226\", \"S00227\", \"S00228\", \"S00229\",\n",
    "    \"S00230\", \"S00231\", \"S00232\", \"S00233\", \"S00234\", \"S00235\", \"S00236\", \"S00237\", \"S00238\",\n",
    "    \"S00239\", \"S00240\", \"S00241\", \"S00242\", \"S00243\", \"S00244\", \"S00245\", \"S00246\", \"S00247\",\n",
    "    \"S00248\", \"S00249\", \"S00250\"\n",
    ")\n",
    "datapath = r\"R:\\FB65\\PAZ\\2024\\12345\"\n",
    "outPath = Path.home() / \"Downloads\"  # output path for plot images"
   ]
  },
  {
   "cell_type": "markdown",
   "metadata": {},
   "source": [
    "## Check given IDs"
   ]
  },
  {
   "cell_type": "code",
   "execution_count": null,
   "metadata": {
    "jupyter": {
     "source_hidden": true
    }
   },
   "outputs": [],
   "source": [
    "for plot, measids in measurements.items():\n",
    "    for measid in measids:\n",
    "        try:\n",
    "            if not isinstance(measid, str):\n",
    "                raise ValueError(f\"Expected a string for '{measid}'! Quotes missing?\")\n",
    "            if int(measid[1:]) <= 0:\n",
    "                raise ValueError(f\"Given '{measid}' does not contain a valid positive measurement ID!\")\n",
    "        except ValueError as e:\n",
    "            print(f\"Given ID {measid} in {plot} does not match the expected format, please fix and retry!\")\n",
    "            raise e"
   ]
  },
  {
   "cell_type": "markdown",
   "metadata": {},
   "source": [
    "## Find the files by title and measurement ID"
   ]
  },
  {
   "cell_type": "code",
   "execution_count": null,
   "metadata": {
    "jupyter": {
     "source_hidden": true
    }
   },
   "outputs": [],
   "source": [
    "datapath = Path(datapath)\n",
    "searchPaths = [datapath]\n",
    "i = 0\n",
    "measPaths = dict()\n",
    "sessions = dict()\n",
    "while i < len(searchPaths):\n",
    "    searchPath = searchPaths.pop(0)\n",
    "    if searchPath.name[:1] in (\".\", \"_\"):\n",
    "        continue\n",
    "    #print(f\"looking in {searchPath}\")\n",
    "    # collect directories to look at\n",
    "    for path in searchPath.iterdir():\n",
    "        if path.is_dir():\n",
    "            searchPaths.append(path)\n",
    "            continue\n",
    "        # see if the file matches one of the measurement numbers/IDs\n",
    "        thisid = None\n",
    "        for plot, measids in measurements.items():\n",
    "            if plot not in measPaths:\n",
    "                measPaths[plot] = {}\n",
    "            filepath = {}\n",
    "            for measid in measids:\n",
    "                if measid not in path.name:\n",
    "                    continue\n",
    "                if measid not in measPaths[plot]:\n",
    "                    measPaths[plot][measid] = []\n",
    "                measPaths[plot][measid].append(path)\n",
    "                thisid = measid\n",
    "                #print(f\"{measPaths[plot][measid]=}\")\n",
    "        if thisid is None:\n",
    "            continue  # current file does not match one of the measurement IDs\n",
    "        #print(f\"{thisid=}\", path)\n",
    "        # update sessions\n",
    "        # for pathSSFZ in path.parent.glob(\"*.[sS][sS][fF][zZ]\"):\n",
    "        #    if pathSSFZ.name in sessions:\n",
    "        #        continue\n",
    "        #    sessions[pathSSFZ.name] = readSSFZ(pathSSFZ)\n",
    "        # operations of this file\n",
    "        #print(list(sorted(data[\"session\"][\"process\"][\"samples\"][\"operation\"].items(), key=lambda item: item[1][\"index\"])\n",
    "        #           for filename, data in sessions.items()\n",
    "        #           if f\">>{thisid}\" in data[\"session\"][\"process\"][\"samples\"][\"declaration\"][\"reference\"]))\n",
    "\n",
    "print(\"Found the following files:\")\n",
    "pprint(measPaths)"
   ]
  },
  {
   "cell_type": "markdown",
   "metadata": {},
   "source": [
    "## Plot file groups"
   ]
  },
  {
   "cell_type": "code",
   "execution_count": null,
   "metadata": {
    "jupyter": {
     "source_hidden": true
    }
   },
   "outputs": [],
   "source": [
    "for title, measids in measPaths.items():\n",
    "    fig = createFigure(quiet=True)\n",
    "    ax = fig.add_subplot(111)\n",
    "    ax.set_title(title)\n",
    "    print(f\"Plotting '{title}':\")\n",
    "    for measid, filepaths in measids.items():\n",
    "        # take the last, should be the desmeared\n",
    "        filepath = sorted(filepaths, key=lambda fp: naturalKey(fp.name))[-1]\n",
    "        label = filepath.stem.split(\"[\")[0]  # strip any '[99]' suffix\n",
    "        plotPDH(filepath, label, ax=ax, print_filename=False)\n",
    "        print(f\"    File: {filepath.relative_to(datapath)}\")\n",
    "    ax.get_legend().remove()\n",
    "    fig.legend(loc='outside right center')\n",
    "    if not outPath.is_dir():\n",
    "        print(f\"Can't store plot in '{outPath}', does not exist!\")\n",
    "        continue\n",
    "    plotPath = outPath / sanitize_filename(datetime.datetime.now().strftime(f\"{title} %y%m%d-%H%M%S.png\"))\n",
    "    fig.savefig(plotPath)\n",
    "    print(f\"-> Exporting plot to '{plotPath}'\")"
   ]
  }
 ],
 "metadata": {
  "kernelspec": {
   "display_name": "Python 3 (ipykernel)",
   "language": "python",
   "name": "python3"
  },
  "language_info": {
   "codemirror_mode": {
    "name": "ipython",
    "version": 3
   },
   "file_extension": ".py",
   "mimetype": "text/x-python",
   "name": "python",
   "nbconvert_exporter": "python",
   "pygments_lexer": "ipython3",
   "version": "3.13.5"
  }
 },
 "nbformat": 4,
 "nbformat_minor": 4
}
